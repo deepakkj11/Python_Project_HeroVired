{
 "cells": [
  {
   "cell_type": "markdown",
   "id": "f22ee7fe-c41d-46b4-85ed-28e4f82557c3",
   "metadata": {
    "editable": true,
    "panel-layout": {
     "height": 50.83,
     "visible": true,
     "width": 100
    },
    "slideshow": {
     "slide_type": ""
    },
    "tags": []
   },
   "source": [
    "## Graded Assignment on Python Programming"
   ]
  },
  {
   "cell_type": "markdown",
   "id": "ef41f1e6-b2d2-4442-97cf-76f9dd9afc17",
   "metadata": {
    "panel-layout": {
     "height": 50.82999801635742,
     "visible": true,
     "width": 100
    }
   },
   "source": [
    "## 1. Data Ingestion & Quality Profiling"
   ]
  },
  {
   "cell_type": "code",
   "execution_count": 192,
   "id": "d445d164-9a1c-4eb3-85fe-152e0bfc1a04",
   "metadata": {},
   "outputs": [],
   "source": [
    "import pandas as pd\n",
    "import numpy as np"
   ]
  },
  {
   "cell_type": "markdown",
   "id": "11cf28ba-90f6-45f2-9b7d-194851542106",
   "metadata": {},
   "source": [
    "    1.1 Load and Inspect"
   ]
  },
  {
   "cell_type": "code",
   "execution_count": 193,
   "id": "3c2fdf97-efa3-4f96-96a1-d526c5504550",
   "metadata": {},
   "outputs": [],
   "source": [
    "#Loading the Dataset\n",
    "df = pd.read_csv(r'C:\\Users\\Admin\\OneDrive\\Desktop\\car_prices.csv')"
   ]
  },
  {
   "cell_type": "code",
   "execution_count": 194,
   "id": "a2f0eb2b-161d-4049-bf8f-c3b51e512510",
   "metadata": {},
   "outputs": [
    {
     "data": {
      "text/html": [
       "<div>\n",
       "<style scoped>\n",
       "    .dataframe tbody tr th:only-of-type {\n",
       "        vertical-align: middle;\n",
       "    }\n",
       "\n",
       "    .dataframe tbody tr th {\n",
       "        vertical-align: top;\n",
       "    }\n",
       "\n",
       "    .dataframe thead th {\n",
       "        text-align: right;\n",
       "    }\n",
       "</style>\n",
       "<table border=\"1\" class=\"dataframe\">\n",
       "  <thead>\n",
       "    <tr style=\"text-align: right;\">\n",
       "      <th></th>\n",
       "      <th>year</th>\n",
       "      <th>make</th>\n",
       "      <th>model</th>\n",
       "      <th>trim</th>\n",
       "      <th>body</th>\n",
       "      <th>transmission</th>\n",
       "      <th>vin</th>\n",
       "      <th>state</th>\n",
       "      <th>condition</th>\n",
       "      <th>odometer</th>\n",
       "      <th>color</th>\n",
       "      <th>interior</th>\n",
       "      <th>seller</th>\n",
       "      <th>mmr</th>\n",
       "      <th>sellingprice</th>\n",
       "      <th>saledate</th>\n",
       "    </tr>\n",
       "  </thead>\n",
       "  <tbody>\n",
       "    <tr>\n",
       "      <th>0</th>\n",
       "      <td>2015</td>\n",
       "      <td>Kia</td>\n",
       "      <td>Sorento</td>\n",
       "      <td>LX</td>\n",
       "      <td>SUV</td>\n",
       "      <td>automatic</td>\n",
       "      <td>5xyktca69fg566472</td>\n",
       "      <td>ca</td>\n",
       "      <td>5.0</td>\n",
       "      <td>16639.0</td>\n",
       "      <td>white</td>\n",
       "      <td>black</td>\n",
       "      <td>kia motors america  inc</td>\n",
       "      <td>20500.0</td>\n",
       "      <td>21500.0</td>\n",
       "      <td>Tue Dec 16 2014 12:30:00 GMT-0800 (PST)</td>\n",
       "    </tr>\n",
       "    <tr>\n",
       "      <th>1</th>\n",
       "      <td>2015</td>\n",
       "      <td>Kia</td>\n",
       "      <td>Sorento</td>\n",
       "      <td>LX</td>\n",
       "      <td>SUV</td>\n",
       "      <td>automatic</td>\n",
       "      <td>5xyktca69fg561319</td>\n",
       "      <td>ca</td>\n",
       "      <td>5.0</td>\n",
       "      <td>9393.0</td>\n",
       "      <td>white</td>\n",
       "      <td>beige</td>\n",
       "      <td>kia motors america  inc</td>\n",
       "      <td>20800.0</td>\n",
       "      <td>21500.0</td>\n",
       "      <td>Tue Dec 16 2014 12:30:00 GMT-0800 (PST)</td>\n",
       "    </tr>\n",
       "    <tr>\n",
       "      <th>2</th>\n",
       "      <td>2014</td>\n",
       "      <td>BMW</td>\n",
       "      <td>3 Series</td>\n",
       "      <td>328i SULEV</td>\n",
       "      <td>Sedan</td>\n",
       "      <td>automatic</td>\n",
       "      <td>wba3c1c51ek116351</td>\n",
       "      <td>ca</td>\n",
       "      <td>45.0</td>\n",
       "      <td>1331.0</td>\n",
       "      <td>gray</td>\n",
       "      <td>black</td>\n",
       "      <td>financial services remarketing (lease)</td>\n",
       "      <td>31900.0</td>\n",
       "      <td>30000.0</td>\n",
       "      <td>Thu Jan 15 2015 04:30:00 GMT-0800 (PST)</td>\n",
       "    </tr>\n",
       "    <tr>\n",
       "      <th>3</th>\n",
       "      <td>2015</td>\n",
       "      <td>Volvo</td>\n",
       "      <td>S60</td>\n",
       "      <td>T5</td>\n",
       "      <td>Sedan</td>\n",
       "      <td>automatic</td>\n",
       "      <td>yv1612tb4f1310987</td>\n",
       "      <td>ca</td>\n",
       "      <td>41.0</td>\n",
       "      <td>14282.0</td>\n",
       "      <td>white</td>\n",
       "      <td>black</td>\n",
       "      <td>volvo na rep/world omni</td>\n",
       "      <td>27500.0</td>\n",
       "      <td>27750.0</td>\n",
       "      <td>Thu Jan 29 2015 04:30:00 GMT-0800 (PST)</td>\n",
       "    </tr>\n",
       "    <tr>\n",
       "      <th>4</th>\n",
       "      <td>2014</td>\n",
       "      <td>BMW</td>\n",
       "      <td>6 Series Gran Coupe</td>\n",
       "      <td>650i</td>\n",
       "      <td>Sedan</td>\n",
       "      <td>automatic</td>\n",
       "      <td>wba6b2c57ed129731</td>\n",
       "      <td>ca</td>\n",
       "      <td>43.0</td>\n",
       "      <td>2641.0</td>\n",
       "      <td>gray</td>\n",
       "      <td>black</td>\n",
       "      <td>financial services remarketing (lease)</td>\n",
       "      <td>66000.0</td>\n",
       "      <td>67000.0</td>\n",
       "      <td>Thu Dec 18 2014 12:30:00 GMT-0800 (PST)</td>\n",
       "    </tr>\n",
       "  </tbody>\n",
       "</table>\n",
       "</div>"
      ],
      "text/plain": [
       "   year   make                model        trim   body transmission  \\\n",
       "0  2015    Kia              Sorento          LX    SUV    automatic   \n",
       "1  2015    Kia              Sorento          LX    SUV    automatic   \n",
       "2  2014    BMW             3 Series  328i SULEV  Sedan    automatic   \n",
       "3  2015  Volvo                  S60          T5  Sedan    automatic   \n",
       "4  2014    BMW  6 Series Gran Coupe        650i  Sedan    automatic   \n",
       "\n",
       "                 vin state  condition  odometer  color interior  \\\n",
       "0  5xyktca69fg566472    ca        5.0   16639.0  white    black   \n",
       "1  5xyktca69fg561319    ca        5.0    9393.0  white    beige   \n",
       "2  wba3c1c51ek116351    ca       45.0    1331.0   gray    black   \n",
       "3  yv1612tb4f1310987    ca       41.0   14282.0  white    black   \n",
       "4  wba6b2c57ed129731    ca       43.0    2641.0   gray    black   \n",
       "\n",
       "                                   seller      mmr  sellingprice  \\\n",
       "0                 kia motors america  inc  20500.0       21500.0   \n",
       "1                 kia motors america  inc  20800.0       21500.0   \n",
       "2  financial services remarketing (lease)  31900.0       30000.0   \n",
       "3                 volvo na rep/world omni  27500.0       27750.0   \n",
       "4  financial services remarketing (lease)  66000.0       67000.0   \n",
       "\n",
       "                                  saledate  \n",
       "0  Tue Dec 16 2014 12:30:00 GMT-0800 (PST)  \n",
       "1  Tue Dec 16 2014 12:30:00 GMT-0800 (PST)  \n",
       "2  Thu Jan 15 2015 04:30:00 GMT-0800 (PST)  \n",
       "3  Thu Jan 29 2015 04:30:00 GMT-0800 (PST)  \n",
       "4  Thu Dec 18 2014 12:30:00 GMT-0800 (PST)  "
      ]
     },
     "execution_count": 194,
     "metadata": {},
     "output_type": "execute_result"
    }
   ],
   "source": [
    "#Displaying the first 5 rows\n",
    "df.head()"
   ]
  },
  {
   "cell_type": "code",
   "execution_count": 195,
   "id": "5f4b1242-af47-4faf-8fff-0b503a3186d1",
   "metadata": {},
   "outputs": [
    {
     "name": "stdout",
     "output_type": "stream",
     "text": [
      "<class 'pandas.core.frame.DataFrame'>\n",
      "RangeIndex: 558837 entries, 0 to 558836\n",
      "Data columns (total 16 columns):\n",
      " #   Column        Non-Null Count   Dtype  \n",
      "---  ------        --------------   -----  \n",
      " 0   year          558837 non-null  int64  \n",
      " 1   make          548536 non-null  object \n",
      " 2   model         548438 non-null  object \n",
      " 3   trim          548186 non-null  object \n",
      " 4   body          545642 non-null  object \n",
      " 5   transmission  493485 non-null  object \n",
      " 6   vin           558833 non-null  object \n",
      " 7   state         558837 non-null  object \n",
      " 8   condition     547017 non-null  float64\n",
      " 9   odometer      558743 non-null  float64\n",
      " 10  color         558088 non-null  object \n",
      " 11  interior      558088 non-null  object \n",
      " 12  seller        558837 non-null  object \n",
      " 13  mmr           558799 non-null  float64\n",
      " 14  sellingprice  558825 non-null  float64\n",
      " 15  saledate      558825 non-null  object \n",
      "dtypes: float64(4), int64(1), object(11)\n",
      "memory usage: 68.2+ MB\n"
     ]
    }
   ],
   "source": [
    "#Displaying data types and record count (non-null counts)\n",
    "df.info()"
   ]
  },
  {
   "cell_type": "markdown",
   "id": "75962e10-d096-4e0d-8d3a-6fa5f3319ccd",
   "metadata": {},
   "source": [
    "    1.2 Understanding the Data Structure"
   ]
  },
  {
   "cell_type": "code",
   "execution_count": 196,
   "id": "c28699c8-b3c1-4dac-92d2-517d400e9586",
   "metadata": {},
   "outputs": [
    {
     "data": {
      "text/plain": [
       "(558837, 16)"
      ]
     },
     "execution_count": 196,
     "metadata": {},
     "output_type": "execute_result"
    }
   ],
   "source": [
    "#Checking the shape of the dataset (rows and columns)\n",
    "df.shape"
   ]
  },
  {
   "cell_type": "code",
   "execution_count": 197,
   "id": "f4af9c1a-618a-49a7-8d29-942a9c18c20f",
   "metadata": {},
   "outputs": [
    {
     "data": {
      "text/plain": [
       "year              int64\n",
       "make             object\n",
       "model            object\n",
       "trim             object\n",
       "body             object\n",
       "transmission     object\n",
       "vin              object\n",
       "state            object\n",
       "condition       float64\n",
       "odometer        float64\n",
       "color            object\n",
       "interior         object\n",
       "seller           object\n",
       "mmr             float64\n",
       "sellingprice    float64\n",
       "saledate         object\n",
       "dtype: object"
      ]
     },
     "execution_count": 197,
     "metadata": {},
     "output_type": "execute_result"
    }
   ],
   "source": [
    "#Displaying column names and their data types\n",
    "df.dtypes"
   ]
  },
  {
   "cell_type": "markdown",
   "id": "79383a9e-e2ca-4e56-a35f-4e6d30304bdb",
   "metadata": {},
   "source": [
    "    1.3 Missing & Anomaly Detection"
   ]
  },
  {
   "cell_type": "code",
   "execution_count": 198,
   "id": "42d82155-50a3-4277-9000-ecccdda56610",
   "metadata": {},
   "outputs": [
    {
     "data": {
      "text/plain": [
       "year                0\n",
       "make            10301\n",
       "model           10399\n",
       "trim            10651\n",
       "body            13195\n",
       "transmission    65352\n",
       "vin                 4\n",
       "state               0\n",
       "condition       11820\n",
       "odometer           94\n",
       "color             749\n",
       "interior          749\n",
       "seller              0\n",
       "mmr                38\n",
       "sellingprice       12\n",
       "saledate           12\n",
       "dtype: int64"
      ]
     },
     "execution_count": 198,
     "metadata": {},
     "output_type": "execute_result"
    }
   ],
   "source": [
    "#Nulls per column\n",
    "df.isnull().sum()"
   ]
  },
  {
   "cell_type": "code",
   "execution_count": 199,
   "id": "5feec82c-92ac-4d6a-9942-c7072d01421d",
   "metadata": {},
   "outputs": [],
   "source": [
    "#Visualizing the Missing data\n",
    "import matplotlib.pyplot as plt"
   ]
  },
  {
   "cell_type": "code",
   "execution_count": 200,
   "id": "4f85f6f0-70ef-4267-8fbc-dd57bf606d0d",
   "metadata": {},
   "outputs": [
    {
     "data": {
      "image/png": "[encoded data removed]",
      "text/plain": [
       "<Figure size 1200x600 with 1 Axes>"
      ]
     },
     "metadata": {},
     "output_type": "display_data"
    }
   ],
   "source": [
    "#Bar Chart for Null Count\n",
    "df.isnull().sum().sort_values(ascending=False).plot(kind='bar', figsize=(12,6), title='Missing Values per Column')\n",
    "plt.xlabel('Columns')\n",
    "plt.ylabel('Missing Values Count')\n",
    "plt.grid(True)\n",
    "plt.tight_layout()\n",
    "plt.show()"
   ]
  },
  {
   "cell_type": "code",
   "execution_count": 201,
   "id": "abb70a54-2120-4244-ba1b-303684f0752a",
   "metadata": {},
   "outputs": [],
   "source": [
    "#Resloving null values\n",
    "#Filling missing Categorical values\n",
    "cat_columns = ['make', 'model', 'trim', 'body', 'transmission', 'color', 'interior']\n",
    "df[cat_columns] = df[cat_columns].fillna('Unknown')"
   ]
  },
  {
   "cell_type": "code",
   "execution_count": 202,
   "id": "38f8878e-b1b1-460e-a9a2-f5d3ef535196",
   "metadata": {},
   "outputs": [],
   "source": [
    "#Filling missing numeric values with median\n",
    "num_columns = ['condition', 'odometer', 'mmr', 'sellingprice']\n",
    "for col in num_columns:\n",
    "    df[col] = df[col].fillna(df[col].median())"
   ]
  },
  {
   "cell_type": "code",
   "execution_count": 203,
   "id": "9d68ae51-1d8a-4622-aaf7-3fb1d3b9cc22",
   "metadata": {},
   "outputs": [
    {
     "data": {
      "text/plain": [
       "year             0\n",
       "make             0\n",
       "model            0\n",
       "trim             0\n",
       "body             0\n",
       "transmission     0\n",
       "vin              4\n",
       "state            0\n",
       "condition        0\n",
       "odometer         0\n",
       "color            0\n",
       "interior         0\n",
       "seller           0\n",
       "mmr              0\n",
       "sellingprice     0\n",
       "saledate        12\n",
       "dtype: int64"
      ]
     },
     "execution_count": 203,
     "metadata": {},
     "output_type": "execute_result"
    }
   ],
   "source": [
    "#Checking if there are any missing values left\n",
    "df.isnull().sum()"
   ]
  },
  {
   "cell_type": "code",
   "execution_count": 204,
   "id": "49969ff2-8e92-4b11-a108-3303edd14650",
   "metadata": {},
   "outputs": [],
   "source": [
    "#As there as missing values in vin and saledate columns, we'll fill them with 'Unknown'\n",
    "df['vin'] = df['vin'].fillna('Unknown')\n",
    "df['saledate'] = df['saledate'].fillna('Unknown')"
   ]
  },
  {
   "cell_type": "code",
   "execution_count": 205,
   "id": "37c54210-fe99-47c8-a1d7-eccf79ae1d19",
   "metadata": {},
   "outputs": [
    {
     "name": "stdout",
     "output_type": "stream",
     "text": [
      "Number of duplicate rows: 0\n"
     ]
    }
   ],
   "source": [
    "#Count number of duplicate records\n",
    "duplicate_count = df.duplicated().sum()\n",
    "print(f\"Number of duplicate rows: {duplicate_count}\")"
   ]
  },
  {
   "cell_type": "markdown",
   "id": "535cdbd5-eebd-43e0-90ee-e02f88461392",
   "metadata": {},
   "source": [
    "So there is no duplicate row"
   ]
  },
  {
   "cell_type": "markdown",
   "id": "843dd66c-4241-4de1-807c-a17831459fc6",
   "metadata": {},
   "source": [
    "## 2. Data frames Queries"
   ]
  },
  {
   "cell_type": "markdown",
   "id": "e88b53fb-d915-4be2-aff5-b446c93561fe",
   "metadata": {},
   "source": [
    "    2.1 Calculation of Average, Maximum and Minimum Car price"
   ]
  },
  {
   "cell_type": "code",
   "execution_count": 206,
   "id": "76101d35-9861-4621-8286-8367b1a5fccc",
   "metadata": {},
   "outputs": [],
   "source": [
    "avg_price = df['sellingprice'].mean()\n",
    "min_price = df['sellingprice'].min()\n",
    "max_price = df['sellingprice'].max()"
   ]
  },
  {
   "cell_type": "code",
   "execution_count": 207,
   "id": "76bfde9a-9610-4ea2-9850-f472e57df8ec",
   "metadata": {},
   "outputs": [
    {
     "name": "stdout",
     "output_type": "stream",
     "text": [
      "Average Price: 13611.326356343621\n",
      "Minimum Price: 1.0\n",
      "Maximum Price: 230000.0\n"
     ]
    }
   ],
   "source": [
    "print(f\"Average Price: {avg_price}\")\n",
    "print(f\"Minimum Price: {min_price}\")\n",
    "print(f\"Maximum Price: {max_price}\")"
   ]
  },
  {
   "cell_type": "markdown",
   "id": "bc632b86-2f0e-4e8c-8922-19923800ed86",
   "metadata": {},
   "source": [
    "    2.2 Listing all the Unique colors of Cars"
   ]
  },
  {
   "cell_type": "code",
   "execution_count": 208,
   "id": "e9e77510-5ca2-4ecd-bee0-ef5353c3f37c",
   "metadata": {},
   "outputs": [],
   "source": [
    "#Reloading the file\n",
    "df = pd.read_csv(r'C:\\Users\\Admin\\OneDrive\\Desktop\\car_prices.csv')"
   ]
  },
  {
   "cell_type": "code",
   "execution_count": 209,
   "id": "aad00626-3af7-4031-a589-a22096a2f9d9",
   "metadata": {},
   "outputs": [],
   "source": [
    "#Clean color column, remove extra spaces\n",
    "df['color'] = df['color'].str.strip()"
   ]
  },
  {
   "cell_type": "code",
   "execution_count": 210,
   "id": "fecb8c5e-d7d1-48c7-a8ac-e7754fab567c",
   "metadata": {},
   "outputs": [],
   "source": [
    "#Need to remove the values with only numbers or only special characters\n",
    "df = df[~df['color'].str.match(r'^\\d+$', na=False)]\n",
    "df = df[df['color'] != '—']"
   ]
  },
  {
   "cell_type": "code",
   "execution_count": 211,
   "id": "a6df5e8a-c02a-4314-9334-513c3762a552",
   "metadata": {},
   "outputs": [
    {
     "name": "stdout",
     "output_type": "stream",
     "text": [
      "['white' 'gray' 'black' 'red' 'silver' 'blue' 'brown' 'beige' 'purple'\n",
      " 'burgundy' 'gold' 'yellow' 'green' 'charcoal' nan 'orange' 'off-white'\n",
      " 'turquoise' 'pink' 'lime']\n"
     ]
    }
   ],
   "source": [
    "#Display unique colors\n",
    "print(df['color'].unique())"
   ]
  },
  {
   "cell_type": "markdown",
   "id": "dbff966f-6e3a-4dce-b601-761d6d7a3caa",
   "metadata": {},
   "source": [
    "    2.3 Finding the number of unique car brands and car models"
   ]
  },
  {
   "cell_type": "code",
   "execution_count": 212,
   "id": "5e082cce-1333-4104-89ae-906beb9df424",
   "metadata": {},
   "outputs": [],
   "source": [
    "#Count Unique brands\n",
    "num_brands = df['make'].nunique()"
   ]
  },
  {
   "cell_type": "code",
   "execution_count": 213,
   "id": "c16528d9-8830-4dc2-9fd1-e34c5c0a7a92",
   "metadata": {},
   "outputs": [],
   "source": [
    "#Count Unique models\n",
    "num_models = df['model'].nunique()"
   ]
  },
  {
   "cell_type": "code",
   "execution_count": 214,
   "id": "0945d0dc-204e-413e-98e2-80158969766b",
   "metadata": {},
   "outputs": [
    {
     "name": "stdout",
     "output_type": "stream",
     "text": [
      "Number of unique car brands: 96\n",
      "Number of unique car models: 970\n"
     ]
    }
   ],
   "source": [
    "print(\"Number of unique car brands:\", num_brands)\n",
    "print(\"Number of unique car models:\", num_models)"
   ]
  },
  {
   "cell_type": "markdown",
   "id": "ef4766f1-6c53-4dec-8a31-73fd8e6c6c71",
   "metadata": {},
   "source": [
    "    2.4 Finding the car information having selling prices greater than $165000"
   ]
  },
  {
   "cell_type": "code",
   "execution_count": 215,
   "id": "f3f67b93-ecfb-467e-afa2-ed90d45b9722",
   "metadata": {},
   "outputs": [],
   "source": [
    "#Filtering rows where selling price > 165000\n",
    "high_price_cars = df[df['sellingprice'] > 165000]"
   ]
  },
  {
   "cell_type": "code",
   "execution_count": 216,
   "id": "923b428d-234a-41d9-8220-ad3589727345",
   "metadata": {},
   "outputs": [
    {
     "data": {
      "text/html": [
       "<div>\n",
       "<style scoped>\n",
       "    .dataframe tbody tr th:only-of-type {\n",
       "        vertical-align: middle;\n",
       "    }\n",
       "\n",
       "    .dataframe tbody tr th {\n",
       "        vertical-align: top;\n",
       "    }\n",
       "\n",
       "    .dataframe thead th {\n",
       "        text-align: right;\n",
       "    }\n",
       "</style>\n",
       "<table border=\"1\" class=\"dataframe\">\n",
       "  <thead>\n",
       "    <tr style=\"text-align: right;\">\n",
       "      <th></th>\n",
       "      <th>year</th>\n",
       "      <th>make</th>\n",
       "      <th>model</th>\n",
       "      <th>trim</th>\n",
       "      <th>body</th>\n",
       "      <th>transmission</th>\n",
       "      <th>vin</th>\n",
       "      <th>state</th>\n",
       "      <th>condition</th>\n",
       "      <th>odometer</th>\n",
       "      <th>color</th>\n",
       "      <th>interior</th>\n",
       "      <th>seller</th>\n",
       "      <th>mmr</th>\n",
       "      <th>sellingprice</th>\n",
       "      <th>saledate</th>\n",
       "    </tr>\n",
       "  </thead>\n",
       "  <tbody>\n",
       "    <tr>\n",
       "      <th>125095</th>\n",
       "      <td>2012</td>\n",
       "      <td>Rolls-Royce</td>\n",
       "      <td>Ghost</td>\n",
       "      <td>Base</td>\n",
       "      <td>Sedan</td>\n",
       "      <td>automatic</td>\n",
       "      <td>sca664s58cux50727</td>\n",
       "      <td>fl</td>\n",
       "      <td>45.0</td>\n",
       "      <td>14316.0</td>\n",
       "      <td>black</td>\n",
       "      <td>beige</td>\n",
       "      <td>braman motorcars</td>\n",
       "      <td>154000.0</td>\n",
       "      <td>169500.0</td>\n",
       "      <td>Wed Jan 14 2015 01:40:00 GMT-0800 (PST)</td>\n",
       "    </tr>\n",
       "    <tr>\n",
       "      <th>344905</th>\n",
       "      <td>2014</td>\n",
       "      <td>Ford</td>\n",
       "      <td>Escape</td>\n",
       "      <td>Titanium</td>\n",
       "      <td>SUV</td>\n",
       "      <td>automatic</td>\n",
       "      <td>1fmcu9j98eua23833</td>\n",
       "      <td>mo</td>\n",
       "      <td>43.0</td>\n",
       "      <td>27802.0</td>\n",
       "      <td>green</td>\n",
       "      <td>tan</td>\n",
       "      <td>ford-lincoln dealer program</td>\n",
       "      <td>22800.0</td>\n",
       "      <td>230000.0</td>\n",
       "      <td>Wed Feb 25 2015 02:00:00 GMT-0800 (PST)</td>\n",
       "    </tr>\n",
       "    <tr>\n",
       "      <th>446949</th>\n",
       "      <td>2015</td>\n",
       "      <td>Mercedes-Benz</td>\n",
       "      <td>S-Class</td>\n",
       "      <td>S65 AMG</td>\n",
       "      <td>Sedan</td>\n",
       "      <td>automatic</td>\n",
       "      <td>wddug7kb2fa102347</td>\n",
       "      <td>ca</td>\n",
       "      <td>41.0</td>\n",
       "      <td>5277.0</td>\n",
       "      <td>white</td>\n",
       "      <td>white</td>\n",
       "      <td>mercedes-benz usa</td>\n",
       "      <td>170000.0</td>\n",
       "      <td>173000.0</td>\n",
       "      <td>Thu May 21 2015 05:00:00 GMT-0700 (PDT)</td>\n",
       "    </tr>\n",
       "    <tr>\n",
       "      <th>538347</th>\n",
       "      <td>2012</td>\n",
       "      <td>Rolls-Royce</td>\n",
       "      <td>Ghost</td>\n",
       "      <td>Base</td>\n",
       "      <td>sedan</td>\n",
       "      <td>automatic</td>\n",
       "      <td>sca664s59cux50803</td>\n",
       "      <td>ca</td>\n",
       "      <td>44.0</td>\n",
       "      <td>5215.0</td>\n",
       "      <td>white</td>\n",
       "      <td>tan</td>\n",
       "      <td>financial services remarketing (bmw int)</td>\n",
       "      <td>166000.0</td>\n",
       "      <td>167000.0</td>\n",
       "      <td>Thu Jun 18 2015 05:30:00 GMT-0700 (PDT)</td>\n",
       "    </tr>\n",
       "    <tr>\n",
       "      <th>545523</th>\n",
       "      <td>2013</td>\n",
       "      <td>Rolls-Royce</td>\n",
       "      <td>Ghost</td>\n",
       "      <td>Base</td>\n",
       "      <td>sedan</td>\n",
       "      <td>automatic</td>\n",
       "      <td>sca664s52dux52152</td>\n",
       "      <td>fl</td>\n",
       "      <td>42.0</td>\n",
       "      <td>7852.0</td>\n",
       "      <td>white</td>\n",
       "      <td>beige</td>\n",
       "      <td>flag/landrover southpointe</td>\n",
       "      <td>178000.0</td>\n",
       "      <td>171500.0</td>\n",
       "      <td>Wed Jun 17 2015 03:05:00 GMT-0700 (PDT)</td>\n",
       "    </tr>\n",
       "    <tr>\n",
       "      <th>548169</th>\n",
       "      <td>2011</td>\n",
       "      <td>Ferrari</td>\n",
       "      <td>458 Italia</td>\n",
       "      <td>Base</td>\n",
       "      <td>coupe</td>\n",
       "      <td>automatic</td>\n",
       "      <td>zff67nfa1b0178698</td>\n",
       "      <td>fl</td>\n",
       "      <td>46.0</td>\n",
       "      <td>12116.0</td>\n",
       "      <td>red</td>\n",
       "      <td>black</td>\n",
       "      <td>platinum motor cars</td>\n",
       "      <td>182000.0</td>\n",
       "      <td>183000.0</td>\n",
       "      <td>Wed Jun 17 2015 03:40:00 GMT-0700 (PDT)</td>\n",
       "    </tr>\n",
       "    <tr>\n",
       "      <th>557570</th>\n",
       "      <td>2012</td>\n",
       "      <td>Rolls-Royce</td>\n",
       "      <td>Ghost</td>\n",
       "      <td>EWB</td>\n",
       "      <td>sedan</td>\n",
       "      <td>automatic</td>\n",
       "      <td>sca664l50cux65625</td>\n",
       "      <td>ca</td>\n",
       "      <td>36.0</td>\n",
       "      <td>11832.0</td>\n",
       "      <td>white</td>\n",
       "      <td>black</td>\n",
       "      <td>bentley scottsdale</td>\n",
       "      <td>164000.0</td>\n",
       "      <td>169000.0</td>\n",
       "      <td>Thu Jun 18 2015 05:30:00 GMT-0700 (PDT)</td>\n",
       "    </tr>\n",
       "  </tbody>\n",
       "</table>\n",
       "</div>"
      ],
      "text/plain": [
       "        year           make       model      trim   body transmission  \\\n",
       "125095  2012    Rolls-Royce       Ghost      Base  Sedan    automatic   \n",
       "344905  2014           Ford      Escape  Titanium    SUV    automatic   \n",
       "446949  2015  Mercedes-Benz     S-Class   S65 AMG  Sedan    automatic   \n",
       "538347  2012    Rolls-Royce       Ghost      Base  sedan    automatic   \n",
       "545523  2013    Rolls-Royce       Ghost      Base  sedan    automatic   \n",
       "548169  2011        Ferrari  458 Italia      Base  coupe    automatic   \n",
       "557570  2012    Rolls-Royce       Ghost       EWB  sedan    automatic   \n",
       "\n",
       "                      vin state  condition  odometer  color interior  \\\n",
       "125095  sca664s58cux50727    fl       45.0   14316.0  black    beige   \n",
       "344905  1fmcu9j98eua23833    mo       43.0   27802.0  green      tan   \n",
       "446949  wddug7kb2fa102347    ca       41.0    5277.0  white    white   \n",
       "538347  sca664s59cux50803    ca       44.0    5215.0  white      tan   \n",
       "545523  sca664s52dux52152    fl       42.0    7852.0  white    beige   \n",
       "548169  zff67nfa1b0178698    fl       46.0   12116.0    red    black   \n",
       "557570  sca664l50cux65625    ca       36.0   11832.0  white    black   \n",
       "\n",
       "                                          seller       mmr  sellingprice  \\\n",
       "125095                          braman motorcars  154000.0      169500.0   \n",
       "344905               ford-lincoln dealer program   22800.0      230000.0   \n",
       "446949                         mercedes-benz usa  170000.0      173000.0   \n",
       "538347  financial services remarketing (bmw int)  166000.0      167000.0   \n",
       "545523                flag/landrover southpointe  178000.0      171500.0   \n",
       "548169                       platinum motor cars  182000.0      183000.0   \n",
       "557570                        bentley scottsdale  164000.0      169000.0   \n",
       "\n",
       "                                       saledate  \n",
       "125095  Wed Jan 14 2015 01:40:00 GMT-0800 (PST)  \n",
       "344905  Wed Feb 25 2015 02:00:00 GMT-0800 (PST)  \n",
       "446949  Thu May 21 2015 05:00:00 GMT-0700 (PDT)  \n",
       "538347  Thu Jun 18 2015 05:30:00 GMT-0700 (PDT)  \n",
       "545523  Wed Jun 17 2015 03:05:00 GMT-0700 (PDT)  \n",
       "548169  Wed Jun 17 2015 03:40:00 GMT-0700 (PDT)  \n",
       "557570  Thu Jun 18 2015 05:30:00 GMT-0700 (PDT)  "
      ]
     },
     "execution_count": 216,
     "metadata": {},
     "output_type": "execute_result"
    }
   ],
   "source": [
    "high_price_cars"
   ]
  },
  {
   "cell_type": "markdown",
   "id": "a0a0359c-1cf9-4bc9-98cb-9864bbbd1517",
   "metadata": {},
   "source": [
    "    2.5 Top 5 most frequently sold car models"
   ]
  },
  {
   "cell_type": "code",
   "execution_count": 217,
   "id": "2dcd41fb-c2d8-47b3-ae3a-ece7ea829833",
   "metadata": {},
   "outputs": [],
   "source": [
    "top_5_models = df['model'].value_counts().head(5)"
   ]
  },
  {
   "cell_type": "code",
   "execution_count": 218,
   "id": "bc8be34e-32e1-41da-9bc3-3b06cfa1a5db",
   "metadata": {},
   "outputs": [
    {
     "data": {
      "text/plain": [
       "model\n",
       "Altima    18101\n",
       "F-150     13346\n",
       "Camry     12153\n",
       "Fusion    10990\n",
       "Escape    10434\n",
       "Name: count, dtype: int64"
      ]
     },
     "execution_count": 218,
     "metadata": {},
     "output_type": "execute_result"
    }
   ],
   "source": [
    "top_5_models"
   ]
  },
  {
   "cell_type": "markdown",
   "id": "57618e71-2a09-47a1-ac41-d5144dc8d32d",
   "metadata": {},
   "source": [
    "    2.6 Average selling price of cars by brand"
   ]
  },
  {
   "cell_type": "code",
   "execution_count": 219,
   "id": "5f4eda80-fb71-48cd-8b34-22593fe0c30f",
   "metadata": {},
   "outputs": [],
   "source": [
    "#Grouping by 'make' and calculating the mean selling price\n",
    "avg_price_by_make = df.groupby('make')['sellingprice'].mean().reset_index()"
   ]
  },
  {
   "cell_type": "code",
   "execution_count": 220,
   "id": "cee41db7-aaa6-4f5d-aeff-b7efd1ca83a6",
   "metadata": {},
   "outputs": [],
   "source": [
    "#Renaming the columns\n",
    "avg_price_by_make.columns = ['Make', 'Average Selling Price']"
   ]
  },
  {
   "cell_type": "code",
   "execution_count": 221,
   "id": "c4fc00d8-ac9f-4453-b562-9093e03c6b30",
   "metadata": {},
   "outputs": [
    {
     "data": {
      "text/html": [
       "<div>\n",
       "<style scoped>\n",
       "    .dataframe tbody tr th:only-of-type {\n",
       "        vertical-align: middle;\n",
       "    }\n",
       "\n",
       "    .dataframe tbody tr th {\n",
       "        vertical-align: top;\n",
       "    }\n",
       "\n",
       "    .dataframe thead th {\n",
       "        text-align: right;\n",
       "    }\n",
       "</style>\n",
       "<table border=\"1\" class=\"dataframe\">\n",
       "  <thead>\n",
       "    <tr style=\"text-align: right;\">\n",
       "      <th></th>\n",
       "      <th>Make</th>\n",
       "      <th>Average Selling Price</th>\n",
       "    </tr>\n",
       "  </thead>\n",
       "  <tbody>\n",
       "    <tr>\n",
       "      <th>0</th>\n",
       "      <td>Acura</td>\n",
       "      <td>14011.912118</td>\n",
       "    </tr>\n",
       "    <tr>\n",
       "      <th>1</th>\n",
       "      <td>Aston Martin</td>\n",
       "      <td>54554.166667</td>\n",
       "    </tr>\n",
       "    <tr>\n",
       "      <th>2</th>\n",
       "      <td>Audi</td>\n",
       "      <td>19530.764063</td>\n",
       "    </tr>\n",
       "    <tr>\n",
       "      <th>3</th>\n",
       "      <td>BMW</td>\n",
       "      <td>21125.005602</td>\n",
       "    </tr>\n",
       "    <tr>\n",
       "      <th>4</th>\n",
       "      <td>Bentley</td>\n",
       "      <td>73217.857143</td>\n",
       "    </tr>\n",
       "    <tr>\n",
       "      <th>...</th>\n",
       "      <td>...</td>\n",
       "      <td>...</td>\n",
       "    </tr>\n",
       "    <tr>\n",
       "      <th>91</th>\n",
       "      <td>subaru</td>\n",
       "      <td>3710.416667</td>\n",
       "    </tr>\n",
       "    <tr>\n",
       "      <th>92</th>\n",
       "      <td>suzuki</td>\n",
       "      <td>4810.000000</td>\n",
       "    </tr>\n",
       "    <tr>\n",
       "      <th>93</th>\n",
       "      <td>toyota</td>\n",
       "      <td>7339.105263</td>\n",
       "    </tr>\n",
       "    <tr>\n",
       "      <th>94</th>\n",
       "      <td>volkswagen</td>\n",
       "      <td>5465.217391</td>\n",
       "    </tr>\n",
       "    <tr>\n",
       "      <th>95</th>\n",
       "      <td>vw</td>\n",
       "      <td>8353.571429</td>\n",
       "    </tr>\n",
       "  </tbody>\n",
       "</table>\n",
       "<p>96 rows × 2 columns</p>\n",
       "</div>"
      ],
      "text/plain": [
       "            Make  Average Selling Price\n",
       "0          Acura           14011.912118\n",
       "1   Aston Martin           54554.166667\n",
       "2           Audi           19530.764063\n",
       "3            BMW           21125.005602\n",
       "4        Bentley           73217.857143\n",
       "..           ...                    ...\n",
       "91        subaru            3710.416667\n",
       "92        suzuki            4810.000000\n",
       "93        toyota            7339.105263\n",
       "94    volkswagen            5465.217391\n",
       "95            vw            8353.571429\n",
       "\n",
       "[96 rows x 2 columns]"
      ]
     },
     "execution_count": 221,
     "metadata": {},
     "output_type": "execute_result"
    }
   ],
   "source": [
    "#Displaying the average selling price\n",
    "avg_price_by_make"
   ]
  },
  {
   "cell_type": "markdown",
   "id": "326f0ea8-2cb0-4f33-b1d3-c2f4f4b9ef20",
   "metadata": {},
   "source": [
    "    2.7 Minimum selling price of cars for each interior"
   ]
  },
  {
   "cell_type": "code",
   "execution_count": 222,
   "id": "344adb69-a4aa-40bf-b701-22f95dd85ea1",
   "metadata": {},
   "outputs": [],
   "source": [
    "#Grouping by 'interior' and calculating minimum selling price\n",
    "min_price_by_interior = df.groupby('interior')['sellingprice'].min().reset_index()"
   ]
  },
  {
   "cell_type": "code",
   "execution_count": 223,
   "id": "9ab4054a-d25c-49d2-93ac-c1347dc0fac1",
   "metadata": {},
   "outputs": [],
   "source": [
    "#Renaming the columns for clarity\n",
    "min_price_by_interior.columns = ['Interior', 'Minimum Selling Price']"
   ]
  },
  {
   "cell_type": "code",
   "execution_count": 224,
   "id": "8b4a328e-8b3c-4fa6-a010-d7c30dedd8d8",
   "metadata": {},
   "outputs": [
    {
     "data": {
      "text/html": [
       "<div>\n",
       "<style scoped>\n",
       "    .dataframe tbody tr th:only-of-type {\n",
       "        vertical-align: middle;\n",
       "    }\n",
       "\n",
       "    .dataframe tbody tr th {\n",
       "        vertical-align: top;\n",
       "    }\n",
       "\n",
       "    .dataframe thead th {\n",
       "        text-align: right;\n",
       "    }\n",
       "</style>\n",
       "<table border=\"1\" class=\"dataframe\">\n",
       "  <thead>\n",
       "    <tr style=\"text-align: right;\">\n",
       "      <th></th>\n",
       "      <th>Interior</th>\n",
       "      <th>Minimum Selling Price</th>\n",
       "    </tr>\n",
       "  </thead>\n",
       "  <tbody>\n",
       "    <tr>\n",
       "      <th>0</th>\n",
       "      <td>beige</td>\n",
       "      <td>100.0</td>\n",
       "    </tr>\n",
       "    <tr>\n",
       "      <th>1</th>\n",
       "      <td>black</td>\n",
       "      <td>1.0</td>\n",
       "    </tr>\n",
       "    <tr>\n",
       "      <th>2</th>\n",
       "      <td>blue</td>\n",
       "      <td>150.0</td>\n",
       "    </tr>\n",
       "    <tr>\n",
       "      <th>3</th>\n",
       "      <td>brown</td>\n",
       "      <td>200.0</td>\n",
       "    </tr>\n",
       "    <tr>\n",
       "      <th>4</th>\n",
       "      <td>burgundy</td>\n",
       "      <td>175.0</td>\n",
       "    </tr>\n",
       "    <tr>\n",
       "      <th>5</th>\n",
       "      <td>gold</td>\n",
       "      <td>250.0</td>\n",
       "    </tr>\n",
       "    <tr>\n",
       "      <th>6</th>\n",
       "      <td>gray</td>\n",
       "      <td>1.0</td>\n",
       "    </tr>\n",
       "    <tr>\n",
       "      <th>7</th>\n",
       "      <td>green</td>\n",
       "      <td>100.0</td>\n",
       "    </tr>\n",
       "    <tr>\n",
       "      <th>8</th>\n",
       "      <td>off-white</td>\n",
       "      <td>900.0</td>\n",
       "    </tr>\n",
       "    <tr>\n",
       "      <th>9</th>\n",
       "      <td>orange</td>\n",
       "      <td>1200.0</td>\n",
       "    </tr>\n",
       "    <tr>\n",
       "      <th>10</th>\n",
       "      <td>purple</td>\n",
       "      <td>200.0</td>\n",
       "    </tr>\n",
       "    <tr>\n",
       "      <th>11</th>\n",
       "      <td>red</td>\n",
       "      <td>200.0</td>\n",
       "    </tr>\n",
       "    <tr>\n",
       "      <th>12</th>\n",
       "      <td>silver</td>\n",
       "      <td>150.0</td>\n",
       "    </tr>\n",
       "    <tr>\n",
       "      <th>13</th>\n",
       "      <td>tan</td>\n",
       "      <td>100.0</td>\n",
       "    </tr>\n",
       "    <tr>\n",
       "      <th>14</th>\n",
       "      <td>white</td>\n",
       "      <td>350.0</td>\n",
       "    </tr>\n",
       "    <tr>\n",
       "      <th>15</th>\n",
       "      <td>yellow</td>\n",
       "      <td>3100.0</td>\n",
       "    </tr>\n",
       "    <tr>\n",
       "      <th>16</th>\n",
       "      <td>—</td>\n",
       "      <td>150.0</td>\n",
       "    </tr>\n",
       "  </tbody>\n",
       "</table>\n",
       "</div>"
      ],
      "text/plain": [
       "     Interior  Minimum Selling Price\n",
       "0       beige                  100.0\n",
       "1       black                    1.0\n",
       "2        blue                  150.0\n",
       "3       brown                  200.0\n",
       "4    burgundy                  175.0\n",
       "5        gold                  250.0\n",
       "6        gray                    1.0\n",
       "7       green                  100.0\n",
       "8   off-white                  900.0\n",
       "9      orange                 1200.0\n",
       "10     purple                  200.0\n",
       "11        red                  200.0\n",
       "12     silver                  150.0\n",
       "13        tan                  100.0\n",
       "14      white                  350.0\n",
       "15     yellow                 3100.0\n",
       "16          —                  150.0"
      ]
     },
     "execution_count": 224,
     "metadata": {},
     "output_type": "execute_result"
    }
   ],
   "source": [
    "#Displaying the minimum selling price\n",
    "min_price_by_interior"
   ]
  },
  {
   "cell_type": "markdown",
   "id": "5fd0e358-be76-453a-833c-040869a5c410",
   "metadata": {},
   "source": [
    "    2.8 Highest Odometer reading per year (descending order)"
   ]
  },
  {
   "cell_type": "code",
   "execution_count": 225,
   "id": "7c266e14-d2a7-40c8-95be-ce7081cb5d49",
   "metadata": {},
   "outputs": [],
   "source": [
    "#Grouping by 'year' and getting the max odometer value for each year\n",
    "Highest_odometer_per_year = df.groupby('year')['odometer'].max().reset_index()"
   ]
  },
  {
   "cell_type": "code",
   "execution_count": 227,
   "id": "5a2d677a-5395-4f34-ae14-47712e7d3ba8",
   "metadata": {},
   "outputs": [],
   "source": [
    "#Sort by Odometer in descending Order\n",
    "Highest_odometer_per_year = Highest_odometer_per_year.sort_values(by='odometer', ascending=False)"
   ]
  },
  {
   "cell_type": "code",
   "execution_count": 228,
   "id": "19f438cc-ac8f-419c-a95e-2e2f1ce371f3",
   "metadata": {},
   "outputs": [
    {
     "data": {
      "text/html": [
       "<div>\n",
       "<style scoped>\n",
       "    .dataframe tbody tr th:only-of-type {\n",
       "        vertical-align: middle;\n",
       "    }\n",
       "\n",
       "    .dataframe tbody tr th {\n",
       "        vertical-align: top;\n",
       "    }\n",
       "\n",
       "    .dataframe thead th {\n",
       "        text-align: right;\n",
       "    }\n",
       "</style>\n",
       "<table border=\"1\" class=\"dataframe\">\n",
       "  <thead>\n",
       "    <tr style=\"text-align: right;\">\n",
       "      <th></th>\n",
       "      <th>year</th>\n",
       "      <th>odometer</th>\n",
       "    </tr>\n",
       "  </thead>\n",
       "  <tbody>\n",
       "    <tr>\n",
       "      <th>17</th>\n",
       "      <td>1999</td>\n",
       "      <td>999999.0</td>\n",
       "    </tr>\n",
       "    <tr>\n",
       "      <th>21</th>\n",
       "      <td>2003</td>\n",
       "      <td>999999.0</td>\n",
       "    </tr>\n",
       "    <tr>\n",
       "      <th>30</th>\n",
       "      <td>2012</td>\n",
       "      <td>999999.0</td>\n",
       "    </tr>\n",
       "    <tr>\n",
       "      <th>31</th>\n",
       "      <td>2013</td>\n",
       "      <td>999999.0</td>\n",
       "    </tr>\n",
       "    <tr>\n",
       "      <th>14</th>\n",
       "      <td>1996</td>\n",
       "      <td>999999.0</td>\n",
       "    </tr>\n",
       "    <tr>\n",
       "      <th>15</th>\n",
       "      <td>1997</td>\n",
       "      <td>999999.0</td>\n",
       "    </tr>\n",
       "    <tr>\n",
       "      <th>16</th>\n",
       "      <td>1998</td>\n",
       "      <td>999999.0</td>\n",
       "    </tr>\n",
       "    <tr>\n",
       "      <th>32</th>\n",
       "      <td>2014</td>\n",
       "      <td>999999.0</td>\n",
       "    </tr>\n",
       "    <tr>\n",
       "      <th>19</th>\n",
       "      <td>2001</td>\n",
       "      <td>999999.0</td>\n",
       "    </tr>\n",
       "    <tr>\n",
       "      <th>20</th>\n",
       "      <td>2002</td>\n",
       "      <td>999999.0</td>\n",
       "    </tr>\n",
       "    <tr>\n",
       "      <th>11</th>\n",
       "      <td>1993</td>\n",
       "      <td>999999.0</td>\n",
       "    </tr>\n",
       "    <tr>\n",
       "      <th>22</th>\n",
       "      <td>2004</td>\n",
       "      <td>999999.0</td>\n",
       "    </tr>\n",
       "    <tr>\n",
       "      <th>23</th>\n",
       "      <td>2005</td>\n",
       "      <td>999999.0</td>\n",
       "    </tr>\n",
       "    <tr>\n",
       "      <th>24</th>\n",
       "      <td>2006</td>\n",
       "      <td>999999.0</td>\n",
       "    </tr>\n",
       "    <tr>\n",
       "      <th>25</th>\n",
       "      <td>2007</td>\n",
       "      <td>999999.0</td>\n",
       "    </tr>\n",
       "    <tr>\n",
       "      <th>26</th>\n",
       "      <td>2008</td>\n",
       "      <td>999999.0</td>\n",
       "    </tr>\n",
       "    <tr>\n",
       "      <th>27</th>\n",
       "      <td>2009</td>\n",
       "      <td>999999.0</td>\n",
       "    </tr>\n",
       "    <tr>\n",
       "      <th>28</th>\n",
       "      <td>2010</td>\n",
       "      <td>999999.0</td>\n",
       "    </tr>\n",
       "    <tr>\n",
       "      <th>29</th>\n",
       "      <td>2011</td>\n",
       "      <td>999999.0</td>\n",
       "    </tr>\n",
       "    <tr>\n",
       "      <th>18</th>\n",
       "      <td>2000</td>\n",
       "      <td>462579.0</td>\n",
       "    </tr>\n",
       "    <tr>\n",
       "      <th>13</th>\n",
       "      <td>1995</td>\n",
       "      <td>396793.0</td>\n",
       "    </tr>\n",
       "    <tr>\n",
       "      <th>10</th>\n",
       "      <td>1992</td>\n",
       "      <td>379307.0</td>\n",
       "    </tr>\n",
       "    <tr>\n",
       "      <th>12</th>\n",
       "      <td>1994</td>\n",
       "      <td>356402.0</td>\n",
       "    </tr>\n",
       "    <tr>\n",
       "      <th>9</th>\n",
       "      <td>1991</td>\n",
       "      <td>274149.0</td>\n",
       "    </tr>\n",
       "    <tr>\n",
       "      <th>4</th>\n",
       "      <td>1986</td>\n",
       "      <td>273327.0</td>\n",
       "    </tr>\n",
       "    <tr>\n",
       "      <th>8</th>\n",
       "      <td>1990</td>\n",
       "      <td>265498.0</td>\n",
       "    </tr>\n",
       "    <tr>\n",
       "      <th>6</th>\n",
       "      <td>1988</td>\n",
       "      <td>241751.0</td>\n",
       "    </tr>\n",
       "    <tr>\n",
       "      <th>5</th>\n",
       "      <td>1987</td>\n",
       "      <td>230946.0</td>\n",
       "    </tr>\n",
       "    <tr>\n",
       "      <th>7</th>\n",
       "      <td>1989</td>\n",
       "      <td>218052.0</td>\n",
       "    </tr>\n",
       "    <tr>\n",
       "      <th>2</th>\n",
       "      <td>1984</td>\n",
       "      <td>170799.0</td>\n",
       "    </tr>\n",
       "    <tr>\n",
       "      <th>3</th>\n",
       "      <td>1985</td>\n",
       "      <td>121644.0</td>\n",
       "    </tr>\n",
       "    <tr>\n",
       "      <th>33</th>\n",
       "      <td>2015</td>\n",
       "      <td>100454.0</td>\n",
       "    </tr>\n",
       "    <tr>\n",
       "      <th>0</th>\n",
       "      <td>1982</td>\n",
       "      <td>85738.0</td>\n",
       "    </tr>\n",
       "    <tr>\n",
       "      <th>1</th>\n",
       "      <td>1983</td>\n",
       "      <td>42697.0</td>\n",
       "    </tr>\n",
       "  </tbody>\n",
       "</table>\n",
       "</div>"
      ],
      "text/plain": [
       "    year  odometer\n",
       "17  1999  999999.0\n",
       "21  2003  999999.0\n",
       "30  2012  999999.0\n",
       "31  2013  999999.0\n",
       "14  1996  999999.0\n",
       "15  1997  999999.0\n",
       "16  1998  999999.0\n",
       "32  2014  999999.0\n",
       "19  2001  999999.0\n",
       "20  2002  999999.0\n",
       "11  1993  999999.0\n",
       "22  2004  999999.0\n",
       "23  2005  999999.0\n",
       "24  2006  999999.0\n",
       "25  2007  999999.0\n",
       "26  2008  999999.0\n",
       "27  2009  999999.0\n",
       "28  2010  999999.0\n",
       "29  2011  999999.0\n",
       "18  2000  462579.0\n",
       "13  1995  396793.0\n",
       "10  1992  379307.0\n",
       "12  1994  356402.0\n",
       "9   1991  274149.0\n",
       "4   1986  273327.0\n",
       "8   1990  265498.0\n",
       "6   1988  241751.0\n",
       "5   1987  230946.0\n",
       "7   1989  218052.0\n",
       "2   1984  170799.0\n",
       "3   1985  121644.0\n",
       "33  2015  100454.0\n",
       "0   1982   85738.0\n",
       "1   1983   42697.0"
      ]
     },
     "execution_count": 228,
     "metadata": {},
     "output_type": "execute_result"
    }
   ],
   "source": [
    "#Displaying the Highest Odometer reading\n",
    "Highest_odometer_per_year"
   ]
  },
  {
   "cell_type": "markdown",
   "id": "f75a72c6-f67b-41da-a23a-b17176b04d2e",
   "metadata": {},
   "source": [
    "    2.9 Creating a new column for car age (assuming the current year is 2025)"
   ]
  },
  {
   "cell_type": "code",
   "execution_count": 229,
   "id": "b8431864-2c16-4797-b548-5339cdbb7a59",
   "metadata": {},
   "outputs": [],
   "source": [
    "df['car_age'] = 2025 - df['year']"
   ]
  },
  {
   "cell_type": "code",
   "execution_count": 230,
   "id": "6984a068-1295-4d99-a021-6d07d24ac5f7",
   "metadata": {},
   "outputs": [
    {
     "data": {
      "text/html": [
       "<div>\n",
       "<style scoped>\n",
       "    .dataframe tbody tr th:only-of-type {\n",
       "        vertical-align: middle;\n",
       "    }\n",
       "\n",
       "    .dataframe tbody tr th {\n",
       "        vertical-align: top;\n",
       "    }\n",
       "\n",
       "    .dataframe thead th {\n",
       "        text-align: right;\n",
       "    }\n",
       "</style>\n",
       "<table border=\"1\" class=\"dataframe\">\n",
       "  <thead>\n",
       "    <tr style=\"text-align: right;\">\n",
       "      <th></th>\n",
       "      <th>year</th>\n",
       "      <th>car_age</th>\n",
       "    </tr>\n",
       "  </thead>\n",
       "  <tbody>\n",
       "    <tr>\n",
       "      <th>0</th>\n",
       "      <td>2015</td>\n",
       "      <td>10</td>\n",
       "    </tr>\n",
       "    <tr>\n",
       "      <th>1</th>\n",
       "      <td>2015</td>\n",
       "      <td>10</td>\n",
       "    </tr>\n",
       "    <tr>\n",
       "      <th>2</th>\n",
       "      <td>2014</td>\n",
       "      <td>11</td>\n",
       "    </tr>\n",
       "    <tr>\n",
       "      <th>3</th>\n",
       "      <td>2015</td>\n",
       "      <td>10</td>\n",
       "    </tr>\n",
       "    <tr>\n",
       "      <th>4</th>\n",
       "      <td>2014</td>\n",
       "      <td>11</td>\n",
       "    </tr>\n",
       "  </tbody>\n",
       "</table>\n",
       "</div>"
      ],
      "text/plain": [
       "   year  car_age\n",
       "0  2015       10\n",
       "1  2015       10\n",
       "2  2014       11\n",
       "3  2015       10\n",
       "4  2014       11"
      ]
     },
     "execution_count": 230,
     "metadata": {},
     "output_type": "execute_result"
    }
   ],
   "source": [
    "#Displaying the first 5 rows to check\n",
    "df[['year', 'car_age']].head()"
   ]
  },
  {
   "cell_type": "markdown",
   "id": "a88e3e02-462a-4af7-bf33-15491cf3ed2c",
   "metadata": {},
   "source": [
    "    2.10 Number of cars with condition ≥ 48 and odometer > 90000"
   ]
  },
  {
   "cell_type": "code",
   "execution_count": 231,
   "id": "1992edde-4dee-463a-a709-0a0ebcb7828e",
   "metadata": {},
   "outputs": [],
   "source": [
    "count_cars = df[(df['condition'] >= 48) & (df['odometer'] > 90000)].shape[0]"
   ]
  },
  {
   "cell_type": "code",
   "execution_count": 232,
   "id": "00b1cf38-2098-4b18-9b39-ba84f1bf3cc2",
   "metadata": {},
   "outputs": [
    {
     "data": {
      "text/plain": [
       "718"
      ]
     },
     "execution_count": 232,
     "metadata": {},
     "output_type": "execute_result"
    }
   ],
   "source": [
    "#Display the output\n",
    "count_cars"
   ]
  },
  {
   "cell_type": "markdown",
   "id": "2b45e196-8355-4b0c-9306-7c5ba87303a2",
   "metadata": {},
   "source": [
    "    2.11 Which state consistently has higher car prices for newer cars (year>2013)"
   ]
  },
  {
   "cell_type": "code",
   "execution_count": 233,
   "id": "15631a16-854f-4411-8a33-b36af6956eb1",
   "metadata": {},
   "outputs": [],
   "source": [
    "#Filter for newer cars\n",
    "newer_cars = df[df['year'] > 2013]"
   ]
  },
  {
   "cell_type": "code",
   "execution_count": 234,
   "id": "0bd83d1f-23d1-41f3-9434-f530864a7637",
   "metadata": {},
   "outputs": [],
   "source": [
    "#Average selling price by state sorted in descending order\n",
    "state_avg_price = newer_cars.groupby('state')['sellingprice'].mean().sort_values(ascending=False)"
   ]
  },
  {
   "cell_type": "code",
   "execution_count": 235,
   "id": "eafc7fe3-918c-4928-a313-e64201d2808e",
   "metadata": {},
   "outputs": [
    {
     "data": {
      "text/plain": [
       "state\n",
       "oh    27507.366615\n",
       "ab    25204.255319\n",
       "nj    23707.794040\n",
       "on    22967.526882\n",
       "qc    22704.404145\n",
       "pa    22042.979697\n",
       "tn    21880.586719\n",
       "mi    21435.971921\n",
       "ca    20900.889138\n",
       "wa    20635.986994\n",
       "co    20501.018923\n",
       "fl    20351.167751\n",
       "ne    20005.963077\n",
       "il    20002.091227\n",
       "ga    19967.433339\n",
       "nv    19824.253318\n",
       "tx    19769.873912\n",
       "ny    19733.001988\n",
       "mo    19575.190000\n",
       "mn    19570.785833\n",
       "la    19171.536424\n",
       "va    19134.971098\n",
       "wi    19088.416303\n",
       "az    18850.340136\n",
       "ut    18849.693252\n",
       "ns    18716.666667\n",
       "hi    18063.157895\n",
       "ma    17733.333333\n",
       "md    17728.183230\n",
       "nc    17356.759076\n",
       "sc    17019.425141\n",
       "or    16464.522822\n",
       "ms    15989.310345\n",
       "in    15585.145631\n",
       "nm    15207.692308\n",
       "pr    15022.413793\n",
       "al    14900.000000\n",
       "ok    10600.000000\n",
       "Name: sellingprice, dtype: float64"
      ]
     },
     "execution_count": 235,
     "metadata": {},
     "output_type": "execute_result"
    }
   ],
   "source": [
    "#Display the output\n",
    "state_avg_price"
   ]
  },
  {
   "cell_type": "markdown",
   "id": "656129a6-2046-402b-b8f2-005b81b8a575",
   "metadata": {},
   "source": [
    "    2.12 For cars with excellent condition (top 20%), which makes have the lowest average price (value for money)?"
   ]
  },
  {
   "cell_type": "code",
   "execution_count": 236,
   "id": "b72cb89b-cfbd-4eca-b6d8-4b2ae39ad710",
   "metadata": {},
   "outputs": [],
   "source": [
    "#Condition score threshold for the top 20%\n",
    "condition_threshold = df['condition'].quantile(0.8)"
   ]
  },
  {
   "cell_type": "code",
   "execution_count": 237,
   "id": "a547ee32-c4b8-42c9-9f97-c09a5e772c72",
   "metadata": {},
   "outputs": [],
   "source": [
    "#Cars in the top 20% condition\n",
    "excellent_cars = df[df['condition'] >= condition_threshold]"
   ]
  },
  {
   "cell_type": "code",
   "execution_count": 238,
   "id": "d304d1f3-4dc6-49c5-8d9b-b64e8dba08f1",
   "metadata": {},
   "outputs": [],
   "source": [
    "#Grouping by 'make' and finding the average selling price, sorted in ascending order\n",
    "Average_price = excellent_cars.groupby('make')['sellingprice'].mean().sort_values()"
   ]
  },
  {
   "cell_type": "code",
   "execution_count": 239,
   "id": "ea50b7d0-7c0f-4da1-b08a-d6ace1d1b1f8",
   "metadata": {},
   "outputs": [
    {
     "data": {
      "text/plain": [
       "make\n",
       "Oldsmobile       2100.000000\n",
       "Isuzu            3370.000000\n",
       "honda            4233.333333\n",
       "Saturn           5502.500000\n",
       "chrysler         6033.333333\n",
       "                   ...      \n",
       "Tesla           68088.888889\n",
       "Bentley         86992.647059\n",
       "Lamborghini    112625.000000\n",
       "Ferrari        139363.636364\n",
       "Rolls-Royce    155050.000000\n",
       "Name: sellingprice, Length: 78, dtype: float64"
      ]
     },
     "execution_count": 239,
     "metadata": {},
     "output_type": "execute_result"
    }
   ],
   "source": [
    "Average_price"
   ]
  },
  {
   "cell_type": "markdown",
   "id": "4d84564a-4ac9-4d3f-be05-f0a13910d3e7",
   "metadata": {},
   "source": [
    "## 3. Data Visualization and insights"
   ]
  },
  {
   "cell_type": "markdown",
   "id": "e6e86cb1-04d3-4f40-b404-c1bf3cc51116",
   "metadata": {},
   "source": [
    "    3.1 Correlation of all the features having numerical values"
   ]
  },
  {
   "cell_type": "code",
   "execution_count": 243,
   "id": "4cb25935-264a-4023-9d84-dd60c22f2da9",
   "metadata": {},
   "outputs": [],
   "source": [
    "import matplotlib.pyplot as plt\n",
    "import seaborn as sns"
   ]
  },
  {
   "cell_type": "code",
   "execution_count": 245,
   "id": "ee99e6e7-4cf3-40f1-be17-e0228b1ba2b4",
   "metadata": {},
   "outputs": [],
   "source": [
    "#Need to consider only numeric columns\n",
    "numeric_df = df.select_dtypes(include=['int64', 'float64'])"
   ]
  },
  {
   "cell_type": "code",
   "execution_count": 246,
   "id": "0ef2e815-aab1-4aa3-8bb3-36ac54187f76",
   "metadata": {},
   "outputs": [],
   "source": [
    "#Compute the Correlation\n",
    "corr_matrix = numeric_df.corr()"
   ]
  },
  {
   "cell_type": "code",
   "execution_count": 252,
   "id": "610fab0d-42da-4d96-84c6-7a97095eaf63",
   "metadata": {},
   "outputs": [
    {
     "data": {
      "image/png": "[encoded data removed]",
      "text/plain": [
       "<Figure size 700x400 with 2 Axes>"
      ]
     },
     "metadata": {},
     "output_type": "display_data"
    }
   ],
   "source": [
    "#Heatmap\n",
    "plt.figure(figsize=(7, 4))\n",
    "sns.heatmap(corr_matrix, annot=True, cmap='coolwarm')\n",
    "plt.title(\"Correlation Heatmap of Numerical Features\", fontsize=14)\n",
    "plt.show()"
   ]
  },
  {
   "cell_type": "raw",
   "id": "ecbd31c1-2850-4e9c-b0a8-9c08b971e36c",
   "metadata": {},
   "source": [
    "According to the heatmap, the selling price has a moderate positive correlation with year (new cars tend to be more expensive) and a moderate negative correlation with odometer (which means cars used more, generally showing lower price).\n",
    "Also, Condition has a weak correlation with price."
   ]
  },
  {
   "cell_type": "markdown",
   "id": "cb2ccb5e-93b6-48a2-83c0-e5b6384e34a2",
   "metadata": {},
   "source": [
    "    3.2 Average selling price by year"
   ]
  },
  {
   "cell_type": "code",
   "execution_count": 254,
   "id": "cdd8acb7-c308-4cdb-a096-047b7b0a56aa",
   "metadata": {},
   "outputs": [],
   "source": [
    "#Grouping by year and calculating average price\n",
    "avg_price_by_year = df.groupby('year')['sellingprice'].mean().reset_index()"
   ]
  },
  {
   "cell_type": "code",
   "execution_count": 255,
   "id": "84bda691-2f39-446a-b041-ab34eab63d4c",
   "metadata": {},
   "outputs": [],
   "source": [
    "#Bar Chart\n",
    "import matplotlib.pyplot as plt"
   ]
  },
  {
   "cell_type": "code",
   "execution_count": 257,
   "id": "0753fe5e-6ff0-446c-bc96-92191e4ab75c",
   "metadata": {},
   "outputs": [
    {
     "data": {
      "image/png": "[encoded data removed]",
      "text/plain": [
       "<Figure size 800x400 with 1 Axes>"
      ]
     },
     "metadata": {},
     "output_type": "display_data"
    }
   ],
   "source": [
    "plt.figure(figsize=(8,4))\n",
    "plt.bar(avg_price_by_year['year'], avg_price_by_year['sellingprice'], color='skyblue')\n",
    "plt.xlabel('Year')\n",
    "plt.ylabel('Average Selling Price ($)')\n",
    "plt.title('Average Selling Price by Year')\n",
    "plt.xticks(rotation=45)\n",
    "plt.show()"
   ]
  },
  {
   "cell_type": "raw",
   "id": "bd02ba28-ce37-4ae5-921c-346f50b8e4db",
   "metadata": {},
   "source": [
    "I preferred to use Bar Chart over Scatter chart because Year is distributed like categories (a discrete variable) and had to compare Average prices for a limited set of years. \n",
    "Also, it can be seen in the graph that the cars from the recent years (new cars) have higher selling prices when compared to the old cars which is generally possible due to depreciation/physical damages in the cars."
   ]
  },
  {
   "cell_type": "markdown",
   "id": "e79315c4-9a9e-49b5-b656-0df756e62e93",
   "metadata": {},
   "source": [
    "    3.3 Average selling price by odometer"
   ]
  },
  {
   "cell_type": "code",
   "execution_count": 259,
   "id": "4cbca59d-8673-4f99-a688-ec96abadb718",
   "metadata": {},
   "outputs": [],
   "source": [
    "import matplotlib.pyplot as plt"
   ]
  },
  {
   "cell_type": "code",
   "execution_count": 261,
   "id": "10063bd0-f38c-4f17-a1e3-3471cc0030eb",
   "metadata": {},
   "outputs": [
    {
     "data": {
      "image/png": "[encoded data removed]",
      "text/plain": [
       "<Figure size 1000x600 with 1 Axes>"
      ]
     },
     "metadata": {},
     "output_type": "display_data"
    }
   ],
   "source": [
    "plt.figure(figsize=(10, 6))\n",
    "plt.scatter(df['odometer'], df['sellingprice'], alpha=0.5)\n",
    "plt.xlabel('Odometer Reading')\n",
    "plt.ylabel('Selling Price')\n",
    "plt.title('Average Selling Price by Odometer')\n",
    "plt.grid(True)\n",
    "plt.show()"
   ]
  },
  {
   "cell_type": "raw",
   "id": "9905785f-d086-4833-a3bd-5e8a1312cfec",
   "metadata": {},
   "source": [
    "It can be seen that the Cars with Low Odometer reading generally have higher selling prices."
   ]
  },
  {
   "cell_type": "markdown",
   "id": "d57c5248-6674-4ffc-aa56-b25e9b8ca342",
   "metadata": {},
   "source": [
    "    3.4 Number of Cars sold in each state"
   ]
  },
  {
   "cell_type": "code",
   "execution_count": 265,
   "id": "31226d21-217d-4e9b-af8e-255d65edcc7e",
   "metadata": {},
   "outputs": [],
   "source": [
    "#Number of cars sold per state\n",
    "state_wise_counts = df['state'].value_counts()"
   ]
  },
  {
   "cell_type": "code",
   "execution_count": 270,
   "id": "58ff2d46-a87e-402e-82e1-d3d9b487dad4",
   "metadata": {},
   "outputs": [
    {
     "data": {
      "image/png": "[encoded data removed]",
      "text/plain": [
       "<Figure size 1000x500 with 1 Axes>"
      ]
     },
     "metadata": {},
     "output_type": "display_data"
    }
   ],
   "source": [
    "#Bar Graph\n",
    "plt.figure(figsize=(10,5))\n",
    "state_counts.plot(kind='bar')\n",
    "plt.title('Number of Cars Sold by State')\n",
    "plt.xlabel('State')\n",
    "plt.ylabel('Number of Cars Sold')\n",
    "plt.xticks(rotation=90)\n",
    "plt.show()"
   ]
  },
  {
   "cell_type": "code",
   "execution_count": 275,
   "id": "dfb767e8-53a0-486e-93d7-c4113819893a",
   "metadata": {},
   "outputs": [
    {
     "name": "stdout",
     "output_type": "stream",
     "text": [
      "Top 3 highest selling states:\n",
      "state\n",
      "fl    78410\n",
      "ca    70553\n",
      "pa    51948\n",
      "Name: count, dtype: int64\n"
     ]
    }
   ],
   "source": [
    "#Top 3 highest selling states\n",
    "top_3_states = state_wise_counts.head(3)\n",
    "print(\"Top 3 highest selling states:\")\n",
    "print(top_3_states)"
   ]
  },
  {
   "cell_type": "markdown",
   "id": "67d8ce64-572c-449a-a0ba-aab07fb78a79",
   "metadata": {},
   "source": [
    "    3.5 Average selling price by condition score ranges of size 5"
   ]
  },
  {
   "cell_type": "code",
   "execution_count": 289,
   "id": "10cac715-984d-42a0-b1c9-f2aa8f9c3bf7",
   "metadata": {},
   "outputs": [
    {
     "name": "stderr",
     "output_type": "stream",
     "text": [
      "C:\\Users\\Admin\\AppData\\Local\\Temp\\ipykernel_10176\\1679844653.py:5: FutureWarning: The default of observed=False is deprecated and will be changed to True in a future version of pandas. Pass observed=False to retain current behavior or observed=True to adopt the future default and silence this warning.\n",
      "  df.groupby('condition_range_5')['sellingprice'].mean().plot(kind='bar', figsize=(8,4))\n"
     ]
    },
    {
     "data": {
      "image/png": "[encoded data removed]",
      "text/plain": [
       "<Figure size 800x400 with 1 Axes>"
      ]
     },
     "metadata": {},
     "output_type": "display_data"
    }
   ],
   "source": [
    "#Group condition into ranges of 5\n",
    "df['condition_range_5'] = pd.cut(df['condition'], bins=range(0, int(df['condition'].max())+5, 5))\n",
    "\n",
    "#Average selling price by condition range\n",
    "df.groupby('condition_range_5')['sellingprice'].mean().plot(kind='bar', figsize=(8,4))\n",
    "\n",
    "plt.title('Average Selling Price by Condition Range (size 5)')\n",
    "plt.xlabel('Condition Range')\n",
    "plt.ylabel('Average Selling Price ($)')\n",
    "plt.show()"
   ]
  },
  {
   "cell_type": "raw",
   "id": "ed8918f2-f009-4a1d-b027-914d194501eb",
   "metadata": {},
   "source": [
    "It can be seen in the bar chart that the average selling price generally increases with the improvement in the condition score. Cars in the lowest condition range have lower prices, while those in the highest ranges have the highest average selling prices. This indicates that the buyers are willing to pay more for vehicles in better condition."
   ]
  },
  {
   "cell_type": "markdown",
   "id": "b042c20f-d2b1-457c-8a0b-7d7a8bbbda9f",
   "metadata": {},
   "source": [
    "    3.6 Number of cars sold by condition ranges of size 10"
   ]
  },
  {
   "cell_type": "code",
   "execution_count": 292,
   "id": "f1d8ac49-9647-4acb-aff4-44d7d870bdc9",
   "metadata": {},
   "outputs": [
    {
     "data": {
      "image/png": "[encoded data removed]",
      "text/plain": [
       "<Figure size 800x400 with 1 Axes>"
      ]
     },
     "metadata": {},
     "output_type": "display_data"
    }
   ],
   "source": [
    "#Grouping condition into bins of size 10\n",
    "df['condition_range'] = pd.cut(df['condition'], bins=range(0, 110, 10))\n",
    "\n",
    "#Count cars in each range\n",
    "condition_counts = df['condition_range'].value_counts().sort_index()\n",
    "\n",
    "#Plot bar chart\n",
    "plt.figure(figsize=(8,4))\n",
    "condition_counts.plot(kind='bar', color='skyblue')\n",
    "plt.title('Number of Cars Sold by Condition Ranges (Size 10)')\n",
    "plt.xlabel('Condition Range')\n",
    "plt.ylabel('Number of Cars Sold')\n",
    "plt.xticks(rotation=45)\n",
    "plt.show()"
   ]
  },
  {
   "cell_type": "raw",
   "id": "290f47d3-6cdd-4ad2-9e34-edd70dded3c5",
   "metadata": {},
   "source": [
    "Insights:\n",
    "It can be seen that the cars in the the 40-80 condition ranges tend to dominate sales volume whereas the cars in very low (0-20) or very high (90-100) condition ranges are sold less frequently when compared to 40-80 condition range cars. This indicates that most buyers prefer well-maintained but not new cars for a balance of better quality and price."
   ]
  },
  {
   "cell_type": "markdown",
   "id": "6d9dca99-b59c-4636-adb9-0b3d27b5aea2",
   "metadata": {},
   "source": [
    "    3.7 Distribution of car selling prices grouped by color"
   ]
  },
  {
   "cell_type": "code",
   "execution_count": 308,
   "id": "7d7ad64e-5090-4d95-be25-51bc7ab3608f",
   "metadata": {},
   "outputs": [
    {
     "name": "stderr",
     "output_type": "stream",
     "text": [
      "C:\\Users\\Admin\\AppData\\Local\\Temp\\ipykernel_10176\\3843486076.py:7: MatplotlibDeprecationWarning: The 'labels' parameter of boxplot() has been renamed 'tick_labels' since Matplotlib 3.9; support for the old name will be dropped in 3.11.\n",
      "  plt.boxplot(data, labels=colors)\n"
     ]
    },
    {
     "data": {
      "image/png": "[encoded data removed]",
      "text/plain": [
       "<Figure size 1000x500 with 1 Axes>"
      ]
     },
     "metadata": {},
     "output_type": "display_data"
    }
   ],
   "source": [
    "#Group data by color\n",
    "colors = df['color'].dropna().unique()\n",
    "data = [df[df['color'] == c]['sellingprice'] for c in colors]\n",
    "\n",
    "#Create the box plot\n",
    "plt.figure(figsize=(10,5))\n",
    "plt.boxplot(data, labels=colors)\n",
    "plt.xticks(rotation=90)  # Rotate color labels\n",
    "plt.title('Selling Price Distribution by Car Color')\n",
    "plt.ylabel('Selling Price ($)')\n",
    "plt.show()"
   ]
  },
  {
   "cell_type": "raw",
   "id": "aeed56bb-4f57-4e4a-97c4-55ebf1fb6f11",
   "metadata": {},
   "source": [
    "The box plot shows that the car selling prices vary widely across colors. Some colors (like white, black, and silver) show a wider range of selling prices, meaning these colors are found on both cheaper and more expensive cars.Less common shades (like lime, pink, turquoise) have fewer entries, and their prices tend to vary less. The boxplots for white, gray, black, silver and blue can not be seen which means that those colors have extremely high-priced outliers compared to the other colors."
   ]
  }
 ],
 "metadata": {
  "kernelspec": {
   "display_name": "Python 3 (ipykernel)",
   "language": "python",
   "name": "python3"
  },
  "language_info": {
   "codemirror_mode": {
    "name": "ipython",
    "version": 3
   },
   "file_extension": ".py",
   "mimetype": "text/x-python",
   "name": "python",
   "nbconvert_exporter": "python",
   "pygments_lexer": "ipython3",
   "version": "3.12.7"
  },
  "panel-cell-order": [
   "f22ee7fe-c41d-46b4-85ed-28e4f82557c3",
   "ef41f1e6-b2d2-4442-97cf-76f9dd9afc17"
  ]
 },
 "nbformat": 4,
 "nbformat_minor": 5
}
